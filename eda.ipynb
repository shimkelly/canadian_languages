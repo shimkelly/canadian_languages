{
 "cells": [
  {
   "cell_type": "markdown",
   "id": "d2af6410-581d-4413-a572-c4ace06c7f8c",
   "metadata": {},
   "source": [
    "## Canadian Languages\n",
    "\n",
    "This project aims to understand what languages Canadian residents speak, and where they speak them"
   ]
  },
  {
   "cell_type": "code",
   "execution_count": 1,
   "id": "56969279-be41-4f3d-94a5-c1adc1207c24",
   "metadata": {},
   "outputs": [
    {
     "ename": "NameError",
     "evalue": "name 'library' is not defined",
     "output_type": "error",
     "traceback": [
      "\u001b[31m---------------------------------------------------------------------------\u001b[39m",
      "\u001b[31mNameError\u001b[39m                                 Traceback (most recent call last)",
      "\u001b[36mCell\u001b[39m\u001b[36m \u001b[39m\u001b[32mIn[1]\u001b[39m\u001b[32m, line 1\u001b[39m\n\u001b[32m----> \u001b[39m\u001b[32m1\u001b[39m \u001b[43mlibrary\u001b[49m(tidyverse)\n",
      "\u001b[31mNameError\u001b[39m: name 'library' is not defined"
     ]
    }
   ],
   "source": [
    "library(tidyverse)"
   ]
  },
  {
   "cell_type": "code",
   "execution_count": null,
   "id": "5c2f2d4a-a390-44d5-b3fd-5381b7c61935",
   "metadata": {},
   "outputs": [],
   "source": []
  }
 ],
 "metadata": {
  "kernelspec": {
   "display_name": "Python 3 (ipykernel)",
   "language": "python",
   "name": "python3"
  },
  "language_info": {
   "codemirror_mode": {
    "name": "ipython",
    "version": 3
   },
   "file_extension": ".py",
   "mimetype": "text/x-python",
   "name": "python",
   "nbconvert_exporter": "python",
   "pygments_lexer": "ipython3",
   "version": "3.12.10"
  },
  "widgets": {
   "application/vnd.jupyter.widget-state+json": {
    "state": {},
    "version_major": 2,
    "version_minor": 0
   }
  }
 },
 "nbformat": 4,
 "nbformat_minor": 5
}
